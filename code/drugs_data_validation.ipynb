{
 "cells": [
  {
   "cell_type": "code",
   "execution_count": 12,
   "id": "6050161d",
   "metadata": {},
   "outputs": [],
   "source": [
    "import pointblank as pb\n",
    "import pandas as pd\n",
    "import os"
   ]
  },
  {
   "cell_type": "code",
   "execution_count": 13,
   "id": "9df85c69",
   "metadata": {},
   "outputs": [],
   "source": [
    "df = pd.read_csv(\"../data/drugs.csv\")"
   ]
  },
  {
   "cell_type": "code",
   "execution_count": 14,
   "id": "d807517e",
   "metadata": {},
   "outputs": [
    {
     "name": "stdout",
     "output_type": "stream",
     "text": [
      "['STATE', 'STATENAME', 'ST_CASE', 'VEH_NO', 'PER_NO', 'DRUGSPEC', 'DRUGSPECNAME', 'DRUGMETHOD', 'DRUGMETHODNAME', 'DRUGRES', 'DRUGRESNAME', 'DRUGQTY', 'DRUGQTYNAME', 'DRUGACTQTY', 'DRUGACTQTYNAME', 'DRUGUOM', 'DRUGUOMNAME']\n",
      "17\n"
     ]
    }
   ],
   "source": [
    "print(list(df.columns))\n",
    "print(len(df.columns))"
   ]
  },
  {
   "cell_type": "code",
   "execution_count": null,
   "id": "96f81758",
   "metadata": {},
   "outputs": [],
   "source": [
    "expected_schema = pb.Schema(\n",
    "    columns=[\n",
    "    ('STATE' , 'int64'),\n",
    "    ('STATENAME', 'object'),\n",
    "    ('ST_CASE', 'int64'),\n",
    "    ('VEH_NO', 'int64'),\n",
    "    ('PER_NO', 'int64'),\n",
    "    ('DRUGSPEC', 'int64'),\n",
    "    ('DRUGSPECNAME', 'object'),\n",
    "    ('DRUGMETHOD', 'int64'),\n",
    "    ('DRUGMETHODNAME', 'object'),\n",
    "    ('DRUGRES', 'int64'),\n",
    "    ('DRUGRESNAME', 'object'),\n",
    "    ('DRUGQTY', 'int64'),\n",
    "    ('DRUGQTYNAME', 'object'),\n",
    "    ('DRUGACTQTY', 'float64'),\n",
    "    ('DRUGACTQTYNAME', 'object'),\n",
    "    ('DRUGUOM', 'int64'),\n",
    "    ('DRUGUOMNAME', 'object'),\n",
    "    ('DRUGMETHOD_valid', 'int64')\n",
    "    ])\n",
    "\n",
    "# The DRUGMETHOD field is valid if its value is either:\n",
    "# - In the range 1 to 26 (inclusive), or\n",
    "# - One of the specific codes: 0, 96, 97, or 99\n",
    "#\n",
    "# Applying these two validation rules separately using:\n",
    "#   .col_vals_between(columns=\"DRUGMETHOD\", left=1, right=26)\n",
    "#   .col_vals_in_set(columns=\"DRUGMETHOD\", set=[00,96,97,99])\n",
    "# results in partial failures, since each rule only validates part of the allowed values.\n",
    "#\n",
    "# To address this, we combined both conditions into a single boolean column (`DRUGMETHOD_valid`)\n",
    "# indicating whether each row meets either condition.\n",
    "#\n",
    "# Since pointblank does not currently support validation on boolean columns,\n",
    "# we convert the boolean values to integers (True → 1, False → 0),\n",
    "# and then validate that all values in the new column equal 1.\n",
    "\n",
    "df['DRUGMETHOD_valid'] = (df['DRUGMETHOD'].isin([00,96,97,99]) | ((df['DRUGMETHOD'] >=1) & (df['DRUGMETHOD'] <= 26))).astype(int)\n",
    "\n",
    "validation_report = (\n",
    "    pb.Validate(\n",
    "        df, \n",
    "        label=\"Validate Drugs Data Report\",\n",
    "        thresholds=pb.Thresholds(warning=1, error= 20, critical=0.10)\n",
    "        )\n",
    "    .col_vals_between(columns=\"STATE\", left=1, right=56)    # Step 1\n",
    "    .col_vals_regex(columns=\"STATENAME\", pattern=r'^[A-Za-z ]+$')   # Step 2\n",
    "    .col_vals_between(columns='VEH_NO', left=0, right=99)   # Step 3\n",
    "    .col_vals_between(columns='PER_NO', left=1, right=99)   # Step 4\n",
    "    .col_vals_in_set(columns=\"DRUGSPEC\", set=[0,1,2,11,12,13,14,15,96,97,98,99])    # Step 5\n",
    "    .col_vals_eq(columns='DRUGMETHOD_valid', value=1)   # Step 6\n",
    "    .col_vals_in_set(columns=\"DRUGQTY\", set=[0,1,2,3,4,96,97,98,99])    # Step 7\n",
    "    .col_vals_in_set(columns='DRUGUOM', set=[1,2,3,4,5,6,7,8,-9])   # Step 8\n",
    "    .col_vals_not_null(columns=[\"PER_NO\",\"VEH_NO\",\"STATENAME\"]) # Step 9, 10, 11 for 3 columns\n",
    "    # 17 given column plus 1 additional column\n",
    "    .col_count_match(18)    # Step 12\n",
    "    .col_schema_match(schema = expected_schema) # Step 13\n",
    "    .interrogate()\n",
    ")\n",
    "\n",
    "validation_report"
   ]
  },
  {
   "cell_type": "code",
   "execution_count": 16,
   "id": "2b31cda9",
   "metadata": {},
   "outputs": [],
   "source": [
    "\n",
    "# Export Validation report to html\n",
    "result_folder = \"../validation_result\"\n",
    "os.makedirs(result_folder, exist_ok=True)\n",
    "validation_report.get_tabular_report().write_raw_html(f\"{result_folder}/drugs_data_validation_report.html\")\n"
   ]
  },
  {
   "cell_type": "code",
   "execution_count": null,
   "id": "1eb69377",
   "metadata": {},
   "outputs": [],
   "source": [
    "# i refers to the index (position) of the validation step in the pointblank.Validate() pipeline starting from 1\n",
    "validation_report.get_step_report(i=3)"
   ]
  }
 ],
 "metadata": {
  "kernelspec": {
   "display_name": "venv",
   "language": "python",
   "name": "python3"
  },
  "language_info": {
   "codemirror_mode": {
    "name": "ipython",
    "version": 3
   },
   "file_extension": ".py",
   "mimetype": "text/x-python",
   "name": "python",
   "nbconvert_exporter": "python",
   "pygments_lexer": "ipython3",
   "version": "3.12.1"
  }
 },
 "nbformat": 4,
 "nbformat_minor": 5
}
